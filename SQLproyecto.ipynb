{
  "nbformat": 4,
  "nbformat_minor": 0,
  "metadata": {
    "colab": {
      "provenance": [],
      "authorship_tag": "ABX9TyNuyEWB3/vI4CNLkbVSQDRL",
      "include_colab_link": true
    },
    "kernelspec": {
      "name": "python3",
      "display_name": "Python 3"
    },
    "language_info": {
      "name": "python"
    }
  },
  "cells": [
    {
      "cell_type": "markdown",
      "metadata": {
        "id": "view-in-github",
        "colab_type": "text"
      },
      "source": [
        "<a href=\"https://colab.research.google.com/github/MauricioGs1/Calidad-de-aire-UAO/blob/main/SQLproyecto.ipynb\" target=\"_parent\"><img src=\"https://colab.research.google.com/assets/colab-badge.svg\" alt=\"Open In Colab\"/></a>"
      ]
    },
    {
      "cell_type": "code",
      "execution_count": null,
      "metadata": {
        "id": "EJb6UEP6VxVz"
      },
      "outputs": [],
      "source": [
        "from sqlite3.dbapi2 import Cursor\n",
        "import sqlite3 as sql\n",
        "import pandas as pd"
      ]
    },
    {
      "cell_type": "code",
      "source": [
        "# pasamos los datos aun dataframe llamado df\n",
        "Dataframeuao = 'DataFrameUAO.xlsx'\n",
        "df = pd.read_excel(Dataframeuao)"
      ],
      "metadata": {
        "id": "J_mF3R3PXj9i"
      },
      "execution_count": null,
      "outputs": []
    },
    {
      "cell_type": "code",
      "source": [
        "df"
      ],
      "metadata": {
        "colab": {
          "base_uri": "https://localhost:8080/",
          "height": 424
        },
        "id": "kp-3iLMfZ2fs",
        "outputId": "3ab89d3e-a5f4-4609-f613-26aad7dda296"
      },
      "execution_count": null,
      "outputs": [
        {
          "output_type": "execute_result",
          "data": {
            "text/plain": [
              "            ID         Lugar                    Fecha  Temperatura (F°)   PM1  \\\n",
              "0            1  Lago Aulas 4  2023-03-14T10:36:28.000              76.0  15.0   \n",
              "1            2  Lago Aulas 4  2023-03-14T10:37:28.000              79.0  14.0   \n",
              "2            3  Lago Aulas 4  2023-03-14T10:38:28.000              80.0  13.0   \n",
              "3            4  Lago Aulas 4  2023-03-14T10:39:28.000              81.0  13.0   \n",
              "4            5  Lago Aulas 4  2023-03-14T10:40:28.000              82.0  15.0   \n",
              "...        ...           ...                      ...               ...   ...   \n",
              "227355  227356  Lago Aulas 4  2023-09-04T17:12:58.000              96.0  18.0   \n",
              "227356  227357  Lago Aulas 4  2023-09-04T17:13:58.000              96.0  18.0   \n",
              "227357  227358  Lago Aulas 4  2023-09-04T17:14:58.000              96.0  17.0   \n",
              "227358  227359  Lago Aulas 4  2023-09-04T17:15:58.000              96.0  18.0   \n",
              "227359  227360  Lago Aulas 4  2023-09-04T17:16:58.000              96.0  16.0   \n",
              "\n",
              "        PM10  PM2.5  \n",
              "0       18.0   17.0  \n",
              "1       16.0   15.0  \n",
              "2       15.0    7.0  \n",
              "3       15.0   15.0  \n",
              "4       17.0   16.0  \n",
              "...      ...    ...  \n",
              "227355  20.0   19.0  \n",
              "227356  20.0   19.0  \n",
              "227357  20.0   19.0  \n",
              "227358  20.0   19.0  \n",
              "227359  19.0   18.0  \n",
              "\n",
              "[227360 rows x 7 columns]"
            ],
            "text/html": [
              "\n",
              "  <div id=\"df-ce15f8bb-60f5-4cc1-8693-34b264ad0d78\" class=\"colab-df-container\">\n",
              "    <div>\n",
              "<style scoped>\n",
              "    .dataframe tbody tr th:only-of-type {\n",
              "        vertical-align: middle;\n",
              "    }\n",
              "\n",
              "    .dataframe tbody tr th {\n",
              "        vertical-align: top;\n",
              "    }\n",
              "\n",
              "    .dataframe thead th {\n",
              "        text-align: right;\n",
              "    }\n",
              "</style>\n",
              "<table border=\"1\" class=\"dataframe\">\n",
              "  <thead>\n",
              "    <tr style=\"text-align: right;\">\n",
              "      <th></th>\n",
              "      <th>ID</th>\n",
              "      <th>Lugar</th>\n",
              "      <th>Fecha</th>\n",
              "      <th>Temperatura (F°)</th>\n",
              "      <th>PM1</th>\n",
              "      <th>PM10</th>\n",
              "      <th>PM2.5</th>\n",
              "    </tr>\n",
              "  </thead>\n",
              "  <tbody>\n",
              "    <tr>\n",
              "      <th>0</th>\n",
              "      <td>1</td>\n",
              "      <td>Lago Aulas 4</td>\n",
              "      <td>2023-03-14T10:36:28.000</td>\n",
              "      <td>76.0</td>\n",
              "      <td>15.0</td>\n",
              "      <td>18.0</td>\n",
              "      <td>17.0</td>\n",
              "    </tr>\n",
              "    <tr>\n",
              "      <th>1</th>\n",
              "      <td>2</td>\n",
              "      <td>Lago Aulas 4</td>\n",
              "      <td>2023-03-14T10:37:28.000</td>\n",
              "      <td>79.0</td>\n",
              "      <td>14.0</td>\n",
              "      <td>16.0</td>\n",
              "      <td>15.0</td>\n",
              "    </tr>\n",
              "    <tr>\n",
              "      <th>2</th>\n",
              "      <td>3</td>\n",
              "      <td>Lago Aulas 4</td>\n",
              "      <td>2023-03-14T10:38:28.000</td>\n",
              "      <td>80.0</td>\n",
              "      <td>13.0</td>\n",
              "      <td>15.0</td>\n",
              "      <td>7.0</td>\n",
              "    </tr>\n",
              "    <tr>\n",
              "      <th>3</th>\n",
              "      <td>4</td>\n",
              "      <td>Lago Aulas 4</td>\n",
              "      <td>2023-03-14T10:39:28.000</td>\n",
              "      <td>81.0</td>\n",
              "      <td>13.0</td>\n",
              "      <td>15.0</td>\n",
              "      <td>15.0</td>\n",
              "    </tr>\n",
              "    <tr>\n",
              "      <th>4</th>\n",
              "      <td>5</td>\n",
              "      <td>Lago Aulas 4</td>\n",
              "      <td>2023-03-14T10:40:28.000</td>\n",
              "      <td>82.0</td>\n",
              "      <td>15.0</td>\n",
              "      <td>17.0</td>\n",
              "      <td>16.0</td>\n",
              "    </tr>\n",
              "    <tr>\n",
              "      <th>...</th>\n",
              "      <td>...</td>\n",
              "      <td>...</td>\n",
              "      <td>...</td>\n",
              "      <td>...</td>\n",
              "      <td>...</td>\n",
              "      <td>...</td>\n",
              "      <td>...</td>\n",
              "    </tr>\n",
              "    <tr>\n",
              "      <th>227355</th>\n",
              "      <td>227356</td>\n",
              "      <td>Lago Aulas 4</td>\n",
              "      <td>2023-09-04T17:12:58.000</td>\n",
              "      <td>96.0</td>\n",
              "      <td>18.0</td>\n",
              "      <td>20.0</td>\n",
              "      <td>19.0</td>\n",
              "    </tr>\n",
              "    <tr>\n",
              "      <th>227356</th>\n",
              "      <td>227357</td>\n",
              "      <td>Lago Aulas 4</td>\n",
              "      <td>2023-09-04T17:13:58.000</td>\n",
              "      <td>96.0</td>\n",
              "      <td>18.0</td>\n",
              "      <td>20.0</td>\n",
              "      <td>19.0</td>\n",
              "    </tr>\n",
              "    <tr>\n",
              "      <th>227357</th>\n",
              "      <td>227358</td>\n",
              "      <td>Lago Aulas 4</td>\n",
              "      <td>2023-09-04T17:14:58.000</td>\n",
              "      <td>96.0</td>\n",
              "      <td>17.0</td>\n",
              "      <td>20.0</td>\n",
              "      <td>19.0</td>\n",
              "    </tr>\n",
              "    <tr>\n",
              "      <th>227358</th>\n",
              "      <td>227359</td>\n",
              "      <td>Lago Aulas 4</td>\n",
              "      <td>2023-09-04T17:15:58.000</td>\n",
              "      <td>96.0</td>\n",
              "      <td>18.0</td>\n",
              "      <td>20.0</td>\n",
              "      <td>19.0</td>\n",
              "    </tr>\n",
              "    <tr>\n",
              "      <th>227359</th>\n",
              "      <td>227360</td>\n",
              "      <td>Lago Aulas 4</td>\n",
              "      <td>2023-09-04T17:16:58.000</td>\n",
              "      <td>96.0</td>\n",
              "      <td>16.0</td>\n",
              "      <td>19.0</td>\n",
              "      <td>18.0</td>\n",
              "    </tr>\n",
              "  </tbody>\n",
              "</table>\n",
              "<p>227360 rows × 7 columns</p>\n",
              "</div>\n",
              "    <div class=\"colab-df-buttons\">\n",
              "\n",
              "  <div class=\"colab-df-container\">\n",
              "    <button class=\"colab-df-convert\" onclick=\"convertToInteractive('df-ce15f8bb-60f5-4cc1-8693-34b264ad0d78')\"\n",
              "            title=\"Convert this dataframe to an interactive table.\"\n",
              "            style=\"display:none;\">\n",
              "\n",
              "  <svg xmlns=\"http://www.w3.org/2000/svg\" height=\"24px\" viewBox=\"0 -960 960 960\">\n",
              "    <path d=\"M120-120v-720h720v720H120Zm60-500h600v-160H180v160Zm220 220h160v-160H400v160Zm0 220h160v-160H400v160ZM180-400h160v-160H180v160Zm440 0h160v-160H620v160ZM180-180h160v-160H180v160Zm440 0h160v-160H620v160Z\"/>\n",
              "  </svg>\n",
              "    </button>\n",
              "\n",
              "  <style>\n",
              "    .colab-df-container {\n",
              "      display:flex;\n",
              "      gap: 12px;\n",
              "    }\n",
              "\n",
              "    .colab-df-convert {\n",
              "      background-color: #E8F0FE;\n",
              "      border: none;\n",
              "      border-radius: 50%;\n",
              "      cursor: pointer;\n",
              "      display: none;\n",
              "      fill: #1967D2;\n",
              "      height: 32px;\n",
              "      padding: 0 0 0 0;\n",
              "      width: 32px;\n",
              "    }\n",
              "\n",
              "    .colab-df-convert:hover {\n",
              "      background-color: #E2EBFA;\n",
              "      box-shadow: 0px 1px 2px rgba(60, 64, 67, 0.3), 0px 1px 3px 1px rgba(60, 64, 67, 0.15);\n",
              "      fill: #174EA6;\n",
              "    }\n",
              "\n",
              "    .colab-df-buttons div {\n",
              "      margin-bottom: 4px;\n",
              "    }\n",
              "\n",
              "    [theme=dark] .colab-df-convert {\n",
              "      background-color: #3B4455;\n",
              "      fill: #D2E3FC;\n",
              "    }\n",
              "\n",
              "    [theme=dark] .colab-df-convert:hover {\n",
              "      background-color: #434B5C;\n",
              "      box-shadow: 0px 1px 3px 1px rgba(0, 0, 0, 0.15);\n",
              "      filter: drop-shadow(0px 1px 2px rgba(0, 0, 0, 0.3));\n",
              "      fill: #FFFFFF;\n",
              "    }\n",
              "  </style>\n",
              "\n",
              "    <script>\n",
              "      const buttonEl =\n",
              "        document.querySelector('#df-ce15f8bb-60f5-4cc1-8693-34b264ad0d78 button.colab-df-convert');\n",
              "      buttonEl.style.display =\n",
              "        google.colab.kernel.accessAllowed ? 'block' : 'none';\n",
              "\n",
              "      async function convertToInteractive(key) {\n",
              "        const element = document.querySelector('#df-ce15f8bb-60f5-4cc1-8693-34b264ad0d78');\n",
              "        const dataTable =\n",
              "          await google.colab.kernel.invokeFunction('convertToInteractive',\n",
              "                                                    [key], {});\n",
              "        if (!dataTable) return;\n",
              "\n",
              "        const docLinkHtml = 'Like what you see? Visit the ' +\n",
              "          '<a target=\"_blank\" href=https://colab.research.google.com/notebooks/data_table.ipynb>data table notebook</a>'\n",
              "          + ' to learn more about interactive tables.';\n",
              "        element.innerHTML = '';\n",
              "        dataTable['output_type'] = 'display_data';\n",
              "        await google.colab.output.renderOutput(dataTable, element);\n",
              "        const docLink = document.createElement('div');\n",
              "        docLink.innerHTML = docLinkHtml;\n",
              "        element.appendChild(docLink);\n",
              "      }\n",
              "    </script>\n",
              "  </div>\n",
              "\n",
              "\n",
              "<div id=\"df-76230365-46b5-4bdc-a5a4-d49ee9044452\">\n",
              "  <button class=\"colab-df-quickchart\" onclick=\"quickchart('df-76230365-46b5-4bdc-a5a4-d49ee9044452')\"\n",
              "            title=\"Suggest charts.\"\n",
              "            style=\"display:none;\">\n",
              "\n",
              "<svg xmlns=\"http://www.w3.org/2000/svg\" height=\"24px\"viewBox=\"0 0 24 24\"\n",
              "     width=\"24px\">\n",
              "    <g>\n",
              "        <path d=\"M19 3H5c-1.1 0-2 .9-2 2v14c0 1.1.9 2 2 2h14c1.1 0 2-.9 2-2V5c0-1.1-.9-2-2-2zM9 17H7v-7h2v7zm4 0h-2V7h2v10zm4 0h-2v-4h2v4z\"/>\n",
              "    </g>\n",
              "</svg>\n",
              "  </button>\n",
              "\n",
              "<style>\n",
              "  .colab-df-quickchart {\n",
              "      --bg-color: #E8F0FE;\n",
              "      --fill-color: #1967D2;\n",
              "      --hover-bg-color: #E2EBFA;\n",
              "      --hover-fill-color: #174EA6;\n",
              "      --disabled-fill-color: #AAA;\n",
              "      --disabled-bg-color: #DDD;\n",
              "  }\n",
              "\n",
              "  [theme=dark] .colab-df-quickchart {\n",
              "      --bg-color: #3B4455;\n",
              "      --fill-color: #D2E3FC;\n",
              "      --hover-bg-color: #434B5C;\n",
              "      --hover-fill-color: #FFFFFF;\n",
              "      --disabled-bg-color: #3B4455;\n",
              "      --disabled-fill-color: #666;\n",
              "  }\n",
              "\n",
              "  .colab-df-quickchart {\n",
              "    background-color: var(--bg-color);\n",
              "    border: none;\n",
              "    border-radius: 50%;\n",
              "    cursor: pointer;\n",
              "    display: none;\n",
              "    fill: var(--fill-color);\n",
              "    height: 32px;\n",
              "    padding: 0;\n",
              "    width: 32px;\n",
              "  }\n",
              "\n",
              "  .colab-df-quickchart:hover {\n",
              "    background-color: var(--hover-bg-color);\n",
              "    box-shadow: 0 1px 2px rgba(60, 64, 67, 0.3), 0 1px 3px 1px rgba(60, 64, 67, 0.15);\n",
              "    fill: var(--button-hover-fill-color);\n",
              "  }\n",
              "\n",
              "  .colab-df-quickchart-complete:disabled,\n",
              "  .colab-df-quickchart-complete:disabled:hover {\n",
              "    background-color: var(--disabled-bg-color);\n",
              "    fill: var(--disabled-fill-color);\n",
              "    box-shadow: none;\n",
              "  }\n",
              "\n",
              "  .colab-df-spinner {\n",
              "    border: 2px solid var(--fill-color);\n",
              "    border-color: transparent;\n",
              "    border-bottom-color: var(--fill-color);\n",
              "    animation:\n",
              "      spin 1s steps(1) infinite;\n",
              "  }\n",
              "\n",
              "  @keyframes spin {\n",
              "    0% {\n",
              "      border-color: transparent;\n",
              "      border-bottom-color: var(--fill-color);\n",
              "      border-left-color: var(--fill-color);\n",
              "    }\n",
              "    20% {\n",
              "      border-color: transparent;\n",
              "      border-left-color: var(--fill-color);\n",
              "      border-top-color: var(--fill-color);\n",
              "    }\n",
              "    30% {\n",
              "      border-color: transparent;\n",
              "      border-left-color: var(--fill-color);\n",
              "      border-top-color: var(--fill-color);\n",
              "      border-right-color: var(--fill-color);\n",
              "    }\n",
              "    40% {\n",
              "      border-color: transparent;\n",
              "      border-right-color: var(--fill-color);\n",
              "      border-top-color: var(--fill-color);\n",
              "    }\n",
              "    60% {\n",
              "      border-color: transparent;\n",
              "      border-right-color: var(--fill-color);\n",
              "    }\n",
              "    80% {\n",
              "      border-color: transparent;\n",
              "      border-right-color: var(--fill-color);\n",
              "      border-bottom-color: var(--fill-color);\n",
              "    }\n",
              "    90% {\n",
              "      border-color: transparent;\n",
              "      border-bottom-color: var(--fill-color);\n",
              "    }\n",
              "  }\n",
              "</style>\n",
              "\n",
              "  <script>\n",
              "    async function quickchart(key) {\n",
              "      const quickchartButtonEl =\n",
              "        document.querySelector('#' + key + ' button');\n",
              "      quickchartButtonEl.disabled = true;  // To prevent multiple clicks.\n",
              "      quickchartButtonEl.classList.add('colab-df-spinner');\n",
              "      try {\n",
              "        const charts = await google.colab.kernel.invokeFunction(\n",
              "            'suggestCharts', [key], {});\n",
              "      } catch (error) {\n",
              "        console.error('Error during call to suggestCharts:', error);\n",
              "      }\n",
              "      quickchartButtonEl.classList.remove('colab-df-spinner');\n",
              "      quickchartButtonEl.classList.add('colab-df-quickchart-complete');\n",
              "    }\n",
              "    (() => {\n",
              "      let quickchartButtonEl =\n",
              "        document.querySelector('#df-76230365-46b5-4bdc-a5a4-d49ee9044452 button');\n",
              "      quickchartButtonEl.style.display =\n",
              "        google.colab.kernel.accessAllowed ? 'block' : 'none';\n",
              "    })();\n",
              "  </script>\n",
              "</div>\n",
              "    </div>\n",
              "  </div>\n"
            ]
          },
          "metadata": {},
          "execution_count": 5
        }
      ]
    },
    {
      "cell_type": "code",
      "source": [
        "#se conecto a un database llamada base_2.db\n",
        "conn = sql.connect('base_2.db')\n",
        "\n",
        "# pasamos el df a sql a una tabla llamada PMUAO\n",
        "\n",
        "df.to_sql('PMUAO', conn, if_exists=\"replace\", index=False)\n",
        "\n",
        "conn.close()"
      ],
      "metadata": {
        "id": "Sjz124elZVYn"
      },
      "execution_count": null,
      "outputs": []
    },
    {
      "cell_type": "code",
      "source": [
        "# miramos un poco la tabla con los datos en este caso los primeros 10 filas\n",
        "conn = sql.connect('base_2.db')\n",
        "print(\"Me conecte a la base de datos\")\n",
        "cursor = conn.cursor()\n",
        "query = f\"SELECT * FROM PMUAO;\"\n",
        "cursor.execute(query)\n",
        "datos = cursor.fetchall()\n",
        "conn.commit()\n",
        "print(datos[:10])\n",
        "conn.close"
      ],
      "metadata": {
        "colab": {
          "base_uri": "https://localhost:8080/"
        },
        "id": "AdIAq5c8aXBX",
        "outputId": "462a9af5-8d27-486a-8517-093f696e14cb"
      },
      "execution_count": null,
      "outputs": [
        {
          "output_type": "stream",
          "name": "stdout",
          "text": [
            "Me conecte a la base de datos\n",
            "[(1, 'Lago Aulas 4', '2023-03-14T10:36:28.000', 76.0, 15.0, 18.0, 17.0), (2, 'Lago Aulas 4', '2023-03-14T10:37:28.000', 79.0, 14.0, 16.0, 15.0), (3, 'Lago Aulas 4', '2023-03-14T10:38:28.000', 80.0, 13.0, 15.0, 7.0), (4, 'Lago Aulas 4', '2023-03-14T10:39:28.000', 81.0, 13.0, 15.0, 15.0), (5, 'Lago Aulas 4', '2023-03-14T10:40:28.000', 82.0, 15.0, 17.0, 16.0), (6, 'Lago Aulas 4', '2023-03-14T10:41:28.000', 83.0, 15.0, 17.0, 17.0), (7, 'Lago Aulas 4', '2023-03-14T10:42:28.000', 84.0, 15.0, 18.0, 17.0), (8, 'Lago Aulas 4', '2023-03-14T10:43:28.000', 85.0, 15.0, 17.0, 16.0), (9, 'Lago Aulas 4', '2023-03-14T10:44:28.000', 86.0, 6.0, 7.0, 7.0), (10, 'Lago Aulas 4', '2023-03-14T10:45:28.000', 83.0, 15.0, 17.0, 16.0)]\n"
          ]
        },
        {
          "output_type": "execute_result",
          "data": {
            "text/plain": [
              "<function Connection.close()>"
            ]
          },
          "metadata": {},
          "execution_count": 29
        }
      ]
    },
    {
      "cell_type": "code",
      "source": [
        "# en este caso seleccionamos y consultamos solo los datos en donde el PM10 esta por encima de 270 el cual solo nos muestra dos filas.\n",
        "\n",
        "conn = sql.connect('base_2.db')\n",
        "cursor = conn.cursor()\n",
        "query = \"SELECT * FROM PMUAO WHERE PM10 > 270\"  # Ejemplo de consulta para seleccionar personas mayores de 30 años\n",
        "cursor.execute(query)\n",
        "\n",
        "\n",
        "resultados = cursor.fetchall()\n",
        "\n",
        "conn.close()\n",
        "\n",
        "\n",
        "\n",
        "\n",
        "\n"
      ],
      "metadata": {
        "id": "_OEDO4Tvby3X"
      },
      "execution_count": null,
      "outputs": []
    },
    {
      "cell_type": "code",
      "source": [
        "print(resultados)"
      ],
      "metadata": {
        "colab": {
          "base_uri": "https://localhost:8080/"
        },
        "id": "O3_m47MkcH6N",
        "outputId": "cd74f053-6b03-4407-bc6e-a7c30c083957"
      },
      "execution_count": null,
      "outputs": [
        {
          "output_type": "stream",
          "name": "stdout",
          "text": [
            "[(90801, 'Lago Aulas 4', '2023-06-01T07:53:02.000', 83.0, 119.0, 275.0, 147.0), (157347, 'Lago Aulas 4', '2023-07-17T21:12:34.000', 90.0, 117.0, 271.0, 145.0)]\n"
          ]
        }
      ]
    },
    {
      "cell_type": "code",
      "source": [
        "# miramos un poco mas de la tabla para saber si estan bien estructuradas conociendo sus diferentes columnas\n",
        "# Conéctate a la base de datos\n",
        "conn = sql.connect('base_2.db')\n",
        "cursor = conn.cursor()\n",
        "\n",
        "# Nombre de la tabla que deseas consultar\n",
        "nombre_tabla = \"PMUAO\"\n",
        "\n",
        "# Consulta SQL para obtener los nombres de las columnas\n",
        "consulta = f\"PRAGMA table_info({nombre_tabla})\"\n",
        "cursor.execute(consulta)\n",
        "\n",
        "# Recupera los resultados de la consulta\n",
        "columnas = cursor.fetchall()\n",
        "\n",
        "# Cierra la conexión\n",
        "conn.close()\n",
        "\n",
        "# Imprime los nombres de las columnas\n",
        "for columna in columnas:\n",
        "    print(columna[1])"
      ],
      "metadata": {
        "colab": {
          "base_uri": "https://localhost:8080/"
        },
        "id": "4lT2M7-Km-3F",
        "outputId": "67769661-8916-46df-8dff-e35235e49b23"
      },
      "execution_count": null,
      "outputs": [
        {
          "output_type": "stream",
          "name": "stdout",
          "text": [
            "ID\n",
            "Lugar\n",
            "Fecha\n",
            "Temperatura (F°)\n",
            "PM1\n",
            "PM10\n",
            "PM2.5\n"
          ]
        }
      ]
    },
    {
      "cell_type": "code",
      "source": [
        "# borramos las las filas donde PM10 sea mayor que 270 la cual seran solo dos\n",
        "conn = sql.connect('base_2.db')\n",
        "cursor = conn.cursor()\n",
        "query = \"DELETE FROM PMUAO WHERE PM10 > 270\"\n",
        "cursor.execute(query)\n",
        "conn.commit()\n",
        "conn.close()"
      ],
      "metadata": {
        "id": "p7SzDot6espO"
      },
      "execution_count": null,
      "outputs": []
    },
    {
      "cell_type": "code",
      "source": [
        "# se agrego una fila con los valores especificados en cada columna\n",
        "conn = sql.connect('base_2.db')\n",
        "cursor = conn.cursor()\n",
        "query = \"INSERT INTO PMUAO (ID, Lugar, Fecha, 'Temperatura (F°)', PM1, PM10, 'PM2.5') VALUES(227361, 'lago aulas 4', '2023-09-18', 76, 14, 20, 16)\"\n",
        "cursor.execute(query)\n",
        "conn.commit()\n",
        "conn.close()"
      ],
      "metadata": {
        "id": "8hfuv74Rg3eR"
      },
      "execution_count": null,
      "outputs": []
    },
    {
      "cell_type": "code",
      "source": [
        "# se muestran las ultimas filas de la tabla PMUAO\n",
        "conn = sql.connect('base_2.db')\n",
        "cursor = conn.cursor()\n",
        "query = \"SELECT * FROM PMUAO ORDER BY ID DESC LIMIT 10\"\n",
        "cursor.execute(query)\n",
        "\n",
        "ultimas_10_filas = cursor.fetchall()\n",
        "\n",
        "conn.close()\n",
        "\n",
        "print(ultimas_10_filas)"
      ],
      "metadata": {
        "colab": {
          "base_uri": "https://localhost:8080/"
        },
        "id": "BXtpRGyooOx9",
        "outputId": "2bac1e36-9fac-4df5-b35a-a046747ca2bb"
      },
      "execution_count": null,
      "outputs": [
        {
          "output_type": "stream",
          "name": "stdout",
          "text": [
            "[(227361, 'lago aulas 4', '2023-09-19', 76.0, 14.0, 20.0, 16.0), (227360, 'Lago Aulas 4', '2023-09-04T17:16:58.000', 96.0, 16.0, 19.0, 18.0), (227359, 'Lago Aulas 4', '2023-09-04T17:15:58.000', 96.0, 18.0, 20.0, 19.0), (227358, 'Lago Aulas 4', '2023-09-04T17:14:58.000', 96.0, 17.0, 20.0, 19.0), (227357, 'Lago Aulas 4', '2023-09-04T17:13:58.000', 96.0, 18.0, 20.0, 19.0), (227356, 'Lago Aulas 4', '2023-09-04T17:12:58.000', 96.0, 18.0, 20.0, 19.0), (227355, 'Lago Aulas 4', '2023-09-04T17:11:58.000', 96.0, 17.0, 19.0, 19.0), (227354, 'Lago Aulas 4', '2023-09-04T17:10:58.000', 96.0, 18.0, 21.0, 20.0), (227353, 'Lago Aulas 4', '2023-09-04T17:09:58.000', 96.0, 17.0, 20.0, 19.0), (227352, 'Lago Aulas 4', '2023-09-04T17:08:58.000', 96.0, 18.0, 20.0, 19.0)]\n"
          ]
        }
      ]
    },
    {
      "cell_type": "code",
      "source": [
        "# se actualizo la fila creada con anterioridad por los valores nombrados\n",
        "conn = sql.connect('base_2.db')\n",
        "cursor = conn.cursor()\n",
        "query = f\"UPDATE PMUAO SET Fecha = '2023-09-19' WHERE Fecha like '2023-09-18';\"\n",
        "cursor.execute(query)\n",
        "conn.commit()\n",
        "conn.close()"
      ],
      "metadata": {
        "id": "QoOxYUMxpzNR"
      },
      "execution_count": null,
      "outputs": []
    }
  ]
}